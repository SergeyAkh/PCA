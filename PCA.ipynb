{
 "cells": [
  {
   "cell_type": "markdown",
   "id": "5ddc7c33-8830-4470-a675-8a167ae265a8",
   "metadata": {},
   "source": [
    "# PCA derivation witn Lagrange multipliers and usage"
   ]
  },
  {
   "cell_type": "markdown",
   "id": "7551cd78-9bff-4ce8-8c21-6115b3d4f74e",
   "metadata": {},
   "source": [
    "# Outline\n",
    "- [ 1 - Theory behind PCA](#1)\n",
    "- [ 2 - Import Data and brief EDA](#2)\n",
    "- [ 3 - Feature selection and train custom model](#3)\n",
    "- [ 4 - Training sklearm model and fine tuning](#4)"
   ]
  },
  {
   "cell_type": "markdown",
   "id": "2a341910-e6f9-4a62-a04e-c9033200fe1b",
   "metadata": {},
   "source": [
    "<a name=\"1\"></a>\n",
    "## 1 - Theory behind PCA"
   ]
  },
  {
   "cell_type": "code",
   "execution_count": null,
   "id": "e546de75-4f2b-4726-8ff2-fb9a7ba5147b",
   "metadata": {},
   "outputs": [],
   "source": []
  }
 ],
 "metadata": {
  "kernelspec": {
   "display_name": "Python 3 (ipykernel)",
   "language": "python",
   "name": "python3"
  },
  "language_info": {
   "codemirror_mode": {
    "name": "ipython",
    "version": 3
   },
   "file_extension": ".py",
   "mimetype": "text/x-python",
   "name": "python",
   "nbconvert_exporter": "python",
   "pygments_lexer": "ipython3",
   "version": "3.9.20"
  }
 },
 "nbformat": 4,
 "nbformat_minor": 5
}
